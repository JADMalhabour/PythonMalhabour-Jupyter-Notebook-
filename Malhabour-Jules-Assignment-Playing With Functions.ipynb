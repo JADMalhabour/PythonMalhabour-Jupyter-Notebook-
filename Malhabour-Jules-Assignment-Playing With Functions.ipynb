{
 "cells": [
  {
   "cell_type": "markdown",
   "metadata": {},
   "source": [
    "#### Student ID: 193149\n",
    "#### Surname: Malhabour\n",
    "#### Year and Course: 2 BS ITE [Floating as BS MGT]\n"
   ]
  },
  {
   "cell_type": "code",
   "execution_count": 10,
   "metadata": {},
   "outputs": [
    {
     "name": "stdout",
     "output_type": "stream",
     "text": [
      "Enter circle circumference: 62.83\n",
      "The area of that circle is: 314.1400003183091\n"
     ]
    }
   ],
   "source": [
    "def get_area_circle(a):\n",
    "    r = a/2/3.1416\n",
    "    area = 3.1416*(r**2)\n",
    "    return area\n",
    "\n",
    "entry = float(input(\"Enter circle circumference: \"))\n",
    "calculate = get_area_circle(entry) \n",
    "result = print(f'The area of that circle is: {calculate}')"
   ]
  },
  {
   "cell_type": "code",
   "execution_count": 22,
   "metadata": {},
   "outputs": [
    {
     "name": "stdout",
     "output_type": "stream",
     "text": [
      "Enter a 5-character word: jacky\n",
      "The reverse of that is: ykcaj\n"
     ]
    }
   ],
   "source": [
    "def reverseString(a):\n",
    "    letters = list(a)\n",
    "    revlist = []\n",
    "    limit = 5\n",
    "    countrev = len(revlist)\n",
    "    counter = countrev - 1\n",
    "    counter2 = 0\n",
    "    while limit > counter2:\n",
    "        revlist.append(letters[counter])\n",
    "        counter2 += 1\n",
    "        counter -= 1\n",
    "    \n",
    "    fuse = \"\"\n",
    "    counter3 = 0\n",
    "    for x in revlist:\n",
    "        fuse += revlist[counter3]\n",
    "        counter3 += 1\n",
    "        \n",
    "    return fuse\n",
    "\n",
    "putword = input(\"Enter a 5-character word: \")\n",
    "swap = reverseString(putword)\n",
    "result = print(f'The reverse of that is: {swap}')"
   ]
  },
  {
   "cell_type": "code",
   "execution_count": 23,
   "metadata": {},
   "outputs": [
    {
     "name": "stdout",
     "output_type": "stream",
     "text": [
      "Enter a number: 5\n",
      "The sum of all numbers less than and including your number is: 15\n",
      "If your number is already in the list, it will only be counted once.\n",
      "Other repeat numbers in the list, however, will be counted as many times as they appear.\n"
     ]
    }
   ],
   "source": [
    "def backAddition(x):\n",
    "    numlist = listofnum\n",
    "    newlist = []\n",
    "    newlist.append(x)\n",
    "    counter = 0\n",
    "    for y in numlist:\n",
    "        if numlist[counter] < x:\n",
    "            newlist.append(numlist[counter])\n",
    "            counter += 1\n",
    "            \n",
    "        else:\n",
    "            counter += 1\n",
    "    \n",
    "    calculate = sum(newlist)\n",
    "    return print(f'The sum of all numbers less than and including your number is: {calculate}\\nIf your number is already in the list, it will only be counted once.\\nOther repeat numbers in the list, however, will be counted as many times as they appear.')\n",
    "\n",
    "numinput = int(input(\"Enter a number: \"))\n",
    "listofnum = [1, 2, 3, 4, 5, 6, 7, 8, 9, 10]\n",
    "go = backAddition(numinput)\n",
    "    "
   ]
  },
  {
   "cell_type": "code",
   "execution_count": 26,
   "metadata": {},
   "outputs": [
    {
     "name": "stdout",
     "output_type": "stream",
     "text": [
      "-25164150\n"
     ]
    }
   ],
   "source": [
    "def sqsm_diff(f100):\n",
    "    sum_of_f100 = sum(f100)\n",
    "    sum_of_squares = sum(n**2 for n in f100)\n",
    "    sq_of_sum = sum_of_f100**2\n",
    "    diff = sum_of_squares - sq_of_sum\n",
    "    return diff\n",
    "\n",
    "#I think the sample equation in line 3 of the instructions are in disarray\n",
    "#in terms of order based on the text description.\n",
    "\n",
    "result = sqsm_diff(list(range(1,101)))\n",
    "print(result)\n"
   ]
  },
  {
   "cell_type": "code",
   "execution_count": null,
   "metadata": {},
   "outputs": [],
   "source": [
    "def exactchange(cents):\n",
    "    twin = cents\n",
    "    peso1 = twin // 100\n",
    "    twin = cents\n",
    "    cents25 = (twin - (peso1*100))//25\n",
    "    twin = cents\n",
    "    cents10 = (twin - (peso1*100) - (cents25*25))//10\n",
    "    twin = cents\n",
    "    cents5 = (twin - (peso1*100) - (cents25*25) - (cents10*10))//5\n",
    "    twin = cents\n",
    "    cent1 = (twin - (peso1*100) - (cents25*25) - (cents10*10) - (cents5*5))\n",
    "    calculated = f'{peso1}\\n{cents25}\\n{cents10}\\n{cents5}\\n{cent1}'\n",
    "    return calculated\n",
    "\n",
    "centchange = int(input())\n",
    "result = exactchange(centchange)\n",
    "print(result)\n",
    "\n",
    "\n"
   ]
  }
 ],
 "metadata": {
  "kernelspec": {
   "display_name": "Python 3",
   "language": "python",
   "name": "python3"
  },
  "language_info": {
   "codemirror_mode": {
    "name": "ipython",
    "version": 3
   },
   "file_extension": ".py",
   "mimetype": "text/x-python",
   "name": "python",
   "nbconvert_exporter": "python",
   "pygments_lexer": "ipython3",
   "version": "3.8.5"
  }
 },
 "nbformat": 4,
 "nbformat_minor": 4
}
