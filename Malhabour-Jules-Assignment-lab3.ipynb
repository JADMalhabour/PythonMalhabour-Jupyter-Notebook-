{
 "cells": [
  {
   "cell_type": "markdown",
   "metadata": {},
   "source": [
    "#### Student ID: 193149\n",
    "#### Surname: Malhabour\n",
    "#### Year and Course: 2 BS ITE [Floating as BS MGT]"
   ]
  },
  {
   "cell_type": "code",
   "execution_count": 1,
   "metadata": {},
   "outputs": [],
   "source": [
    "social_graph = {\n",
    "    \"@bongolpoc\":{\"first_name\":\"Joselito\",\n",
    "                  \"last_name\":\"Olpoc\",\n",
    "                  \"following\":[\n",
    "                  ]\n",
    "    },\n",
    "    \"@joaquin\":  {\"first_name\":\"Joaquin\",\n",
    "                  \"last_name\":\"Gonzales\",\n",
    "                  \"following\":[\n",
    "                      \"@chums\",\"@jobenilagan\"\n",
    "                  ]\n",
    "    },\n",
    "    \"@chums\" : {\"first_name\":\"Matthew\",\n",
    "                \"last_name\":\"Uy\",\n",
    "                \"following\":[\n",
    "                    \"@bongolpoc\",\"@miketan\",\"@rudyang\",\"@joeilagan\"\n",
    "                ]\n",
    "    },\n",
    "    \"@jobenilagan\":{\"first_name\":\"Joben\",\n",
    "                   \"last_name\":\"Ilagan\",\n",
    "                   \"following\":[\n",
    "                    \"@eeebeee\",\"@joeilagan\",\"@chums\",\"@joaquin\"\n",
    "                   ]\n",
    "    },\n",
    "    \"@joeilagan\":{\"first_name\":\"Joe\",\n",
    "                  \"last_name\":\"Ilagan\",\n",
    "                  \"following\":[\n",
    "                    \"@eeebeee\",\"@jobenilagan\",\"@chums\"\n",
    "                  ]\n",
    "    },\n",
    "    \"@eeebeee\":  {\"first_name\":\"Elizabeth\",\n",
    "                  \"last_name\":\"Ilagan\",\n",
    "                  \"following\":[\n",
    "                    \"@jobenilagan\",\"@joeilagan\"\n",
    "                  ]\n",
    "    },\n",
    "}\n",
    "\n",
    "\n",
    "\n",
    "def relationship_status(from_member, to_member):\n",
    "    if from_member in social_graph[to_member][\"following\"] and to_member in social_graph[from_member][\"following\"]:\n",
    "        return 'friends'\n",
    "    elif to_member in social_graph[from_member][\"following\"]:\n",
    "        return 'follower'\n",
    "    elif from_member in social_graph[to_member][\"following\"]:\n",
    "        return 'followed by'\n",
    "    else:\n",
    "        return None\n",
    "    "
   ]
  },
  {
   "cell_type": "code",
   "execution_count": 5,
   "metadata": {},
   "outputs": [
    {
     "data": {
      "text/plain": [
       "'followed by'"
      ]
     },
     "execution_count": 5,
     "metadata": {},
     "output_type": "execute_result"
    }
   ],
   "source": [
    "relationship_status(\"@chums\",\"@jobenilagan\")"
   ]
  },
  {
   "cell_type": "code",
   "execution_count": 7,
   "metadata": {},
   "outputs": [
    {
     "data": {
      "text/plain": [
       "'friends'"
      ]
     },
     "execution_count": 7,
     "metadata": {},
     "output_type": "execute_result"
    }
   ],
   "source": [
    "relationship_status(\"@jobenilagan\", \"@joeilagan\")"
   ]
  },
  {
   "cell_type": "code",
   "execution_count": 9,
   "metadata": {},
   "outputs": [],
   "source": [
    "relationship_status(\"@jobenilagan\", \"@bongolpoc\")"
   ]
  },
  {
   "cell_type": "code",
   "execution_count": 13,
   "metadata": {},
   "outputs": [],
   "source": [
    "board1 = [\n",
    "['X','X','O'],\n",
    "['O','X','O'],\n",
    "['O','','X'],\n",
    "]\n",
    "\n",
    "board2 = [\n",
    "['X','X','O'],\n",
    "['O','X','O'],\n",
    "['','O','X'],\n",
    "]\n",
    "\n",
    "board3 = [\n",
    "['O','X','O'],\n",
    "['','O','X'],\n",
    "['X','X','O'],\n",
    "]\n",
    "\n",
    "board4 = [\n",
    "['X','X','X'],\n",
    "['O','X','O'],\n",
    "['O','','O'],\n",
    "]\n",
    "\n",
    "board5 = [\n",
    "['X','X','O'],\n",
    "['O','X','O'],\n",
    "['X','','O'],\n",
    "]\n",
    "\n",
    "board6 = [\n",
    "['X','X','O'],\n",
    "['O','X','O'],\n",
    "['X','',''],\n",
    "]\n",
    "\n",
    "\n",
    "\n",
    "\n",
    "def get_winner(board):\n",
    "    winner = None\n",
    "    counter = 0\n",
    "    \n",
    "     ## check diagonals\n",
    "    win1 = ['X', 'X', 'X']\n",
    "    win2 = ['X', 'X', 'X']\n",
    "    \n",
    "    checkdia1 = [board[i][i] for i in range(3)]\n",
    "    checkdia2 = [board[3-1-i][i] for i in range(3)]\n",
    "    \n",
    "    if checkdia1 == win1:\n",
    "        counter += 1\n",
    "        return 'X'\n",
    "    if checkdia2 == win2:\n",
    "        counter += 1\n",
    "        return 'O'\n",
    "    \n",
    "     ## check rows\n",
    "    checkltr = [i for i in zip(*board)]\n",
    "    for i in checkltr:\n",
    "        if counter > 0:\n",
    "            break\n",
    "        elif checkltr == win1:\n",
    "            counter += 1\n",
    "            return 'X'\n",
    "        elif checkltr == win2:\n",
    "            counter += 1\n",
    "            return 'O'\n",
    "            \n",
    "     ## check columns\n",
    "    c = 0\n",
    "    cc = 0\n",
    "    emptylist = []\n",
    "    while c < 3:\n",
    "        if counter > 0:\n",
    "            break\n",
    "        while cc < 3:\n",
    "            checkcol = [board[c][cc]]\n",
    "            emptylist.append(checkcol)\n",
    "            cc += 1\n",
    "        if emptylist == win1:\n",
    "            counter += 1\n",
    "            return 'X'\n",
    "        elif emptylist == win2:\n",
    "            counter += 1\n",
    "            return 'O'\n",
    "        else:\n",
    "            c += 1\n",
    "            cc = 0\n",
    "            \n",
    "        \n",
    "        "
   ]
  },
  {
   "cell_type": "code",
   "execution_count": 15,
   "metadata": {},
   "outputs": [
    {
     "name": "stdout",
     "output_type": "stream",
     "text": [
      "Enter source:admu\n",
      "Enter destination:upd\n",
      "ETA:90\n"
     ]
    }
   ],
   "source": [
    "locations = {\n",
    "    \"admu\":{\n",
    "        \"name\":\"Ateneo de Manila University\",\n",
    "        \"latitude\":14.6394557,\n",
    "        \"longitude\":121.0758975        \n",
    "    },\n",
    "    \"upd\":{\n",
    "        \"name\":\"University of the Philippines-Diliman Campus\",\n",
    "        \"latitude\":14.6538519,\n",
    "        \"longitude\":121.0663348\n",
    "    },\n",
    "    \"dlsu\":{\n",
    "        \"name\":\"De La Salle University-Taft\",\n",
    "        \"latitude\":14.5647346,\n",
    "        \"longitude\":120.9909876\n",
    "\n",
    "    }, # <-- Note that Python does not complain about this extra comma. This is perfectly okay.\n",
    "       #     The creators of Python saw that dictionaries tend to be changed a lot, so allowing this is a\n",
    "       #     convenience for developers who need to add elements when needed.\n",
    "}\n",
    "\n",
    "legs = {\n",
    "     (\"upd\",\"admu\"):{\n",
    "         \"travel_time_mins\":10\n",
    "     },\n",
    "     (\"admu\",\"dlsu\"):{\n",
    "         \"travel_time_mins\":35\n",
    "     },\n",
    "     (\"dlsu\",\"upd\"):{\n",
    "         \"travel_time_mins\":55\n",
    "     }\n",
    "}\n",
    "\n",
    "def eta(source,destination):\n",
    "    if source == destination:\n",
    "        return 0\n",
    "    elif source == \"admu\" and destination == \"dlsu\":\n",
    "        return 35\n",
    "    elif source == \"admu\" and destination == \"upd\":\n",
    "        return 90\n",
    "    elif source == \"upd\" and destination == \"admu\":\n",
    "        return 10\n",
    "    elif source == \"upd\" and destination == \"dlsu\":\n",
    "        return 45\n",
    "    elif source == \"dlsu\" and destination == \"admu\":\n",
    "        return 65\n",
    "    elif source == \"dlsu\" and destination == \"upd\":\n",
    "        return 35\n",
    "    \n",
    "    \n",
    "a = input(\"Enter source:\")\n",
    "b = input(\"Enter destination:\")\n",
    "print(f'ETA:{eta(a,b)}')\n",
    "    \n",
    "    \n",
    "    "
   ]
  },
  {
   "cell_type": "code",
   "execution_count": null,
   "metadata": {},
   "outputs": [],
   "source": []
  }
 ],
 "metadata": {
  "kernelspec": {
   "display_name": "Python 3",
   "language": "python",
   "name": "python3"
  },
  "language_info": {
   "codemirror_mode": {
    "name": "ipython",
    "version": 3
   },
   "file_extension": ".py",
   "mimetype": "text/x-python",
   "name": "python",
   "nbconvert_exporter": "python",
   "pygments_lexer": "ipython3",
   "version": "3.8.5"
  }
 },
 "nbformat": 4,
 "nbformat_minor": 4
}
