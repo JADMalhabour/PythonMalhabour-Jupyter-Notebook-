{
 "cells": [
  {
   "cell_type": "markdown",
   "metadata": {},
   "source": [
    "### Student ID: 193149\n",
    "### Surname: Malhabour\n",
    "### Year and Course: 2 BS ITE [Floating as BS MGT]\n",
    "\n"
   ]
  },
  {
   "cell_type": "code",
   "execution_count": 10,
   "metadata": {},
   "outputs": [
    {
     "name": "stdout",
     "output_type": "stream",
     "text": [
      "Enter first number:2\n",
      "Enter second number:4\n",
      "Enter third number:6\n",
      "The average is 4.0\n"
     ]
    }
   ],
   "source": [
    "def three_number_average(a,b,c):\n",
    "    return (a+b+c)/3\n",
    "\n",
    "first_input = int(input(\"Enter first number:\"))\n",
    "second_input = int(input(\"Enter second number:\"))\n",
    "third_input = int(input(\"Enter third number:\"))\n",
    "\n",
    "aveofthree = three_number_average(first_input, second_input, third_input)\n",
    "\n",
    "results = print(f'The average is {aveofthree}')\n",
    "\n",
    "\n",
    "\n"
   ]
  },
  {
   "cell_type": "code",
   "execution_count": null,
   "metadata": {},
   "outputs": [],
   "source": []
  },
  {
   "cell_type": "code",
   "execution_count": null,
   "metadata": {},
   "outputs": [],
   "source": []
  }
 ],
 "metadata": {
  "kernelspec": {
   "display_name": "Python 3",
   "language": "python",
   "name": "python3"
  },
  "language_info": {
   "codemirror_mode": {
    "name": "ipython",
    "version": 3
   },
   "file_extension": ".py",
   "mimetype": "text/x-python",
   "name": "python",
   "nbconvert_exporter": "python",
   "pygments_lexer": "ipython3",
   "version": "3.8.5"
  }
 },
 "nbformat": 4,
 "nbformat_minor": 4
}
