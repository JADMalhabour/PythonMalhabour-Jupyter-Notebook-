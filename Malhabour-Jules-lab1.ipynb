{
 "cells": [
  {
   "cell_type": "markdown",
   "metadata": {},
   "source": [
    "#### Student ID: 193149\n",
    "#### Surname: Malhabour\n",
    "#### Year and Course: 2 BS ITE [Floating as BS MGT]"
   ]
  },
  {
   "cell_type": "code",
   "execution_count": 1,
   "metadata": {},
   "outputs": [
    {
     "name": "stdout",
     "output_type": "stream",
     "text": [
      "Enter the amount in US Dollars: 4\n",
      "4 US Dollar(s) = 200 Philippine Pesos\n"
     ]
    }
   ],
   "source": [
    "def dollars_to_pesos(a):\n",
    "    return a * 50\n",
    "\n",
    "moneyex = int(input(\"Enter the amount in US Dollars: \"))\n",
    "\n",
    "ex = dollars_to_pesos(moneyex)\n",
    "\n",
    "print(f'{moneyex} US Dollar(s) = {ex} Philippine Pesos')"
   ]
  },
  {
   "cell_type": "code",
   "execution_count": 3,
   "metadata": {},
   "outputs": [
    {
     "name": "stdout",
     "output_type": "stream",
     "text": [
      "128\n",
      "8\n",
      "136\n",
      "120\n",
      "1024\n",
      "16\n",
      "0\n"
     ]
    }
   ],
   "source": [
    "a = int(input())\n",
    "b = int(input())\n",
    "\n",
    "add_ab = a + b\n",
    "subt_ab = a - b\n",
    "prod_ab = a * b\n",
    "divwo_ab = a // b\n",
    "modu_ab = a % b\n",
    "\n",
    "print(add_ab)\n",
    "print(subt_ab)\n",
    "print(prod_ab)\n",
    "print(divwo_ab)\n",
    "print(modu_ab)"
   ]
  },
  {
   "cell_type": "code",
   "execution_count": 7,
   "metadata": {},
   "outputs": [
    {
     "name": "stdout",
     "output_type": "stream",
     "text": [
      "Enter kg:70\n",
      "Enter cm:170\n",
      "BMI: 24.221453287197235\n"
     ]
    }
   ],
   "source": [
    "def compute_bmi(a,b):\n",
    "    return a/(b**2)\n",
    "\n",
    "def convert_cm_to_m(c):\n",
    "    return c / 100\n",
    "\n",
    "weight = int(input(\"Enter kg:\"))\n",
    "height = int(input(\"Enter cm:\"))\n",
    "\n",
    "convertedh = convert_cm_to_m(height)\n",
    "\n",
    "result = compute_bmi(weight, convertedh)\n",
    "\n",
    "print(f'BMI: {result}')"
   ]
  },
  {
   "cell_type": "code",
   "execution_count": null,
   "metadata": {},
   "outputs": [],
   "source": []
  }
 ],
 "metadata": {
  "kernelspec": {
   "display_name": "Python 3",
   "language": "python",
   "name": "python3"
  },
  "language_info": {
   "codemirror_mode": {
    "name": "ipython",
    "version": 3
   },
   "file_extension": ".py",
   "mimetype": "text/x-python",
   "name": "python",
   "nbconvert_exporter": "python",
   "pygments_lexer": "ipython3",
   "version": "3.8.5"
  }
 },
 "nbformat": 4,
 "nbformat_minor": 4
}
